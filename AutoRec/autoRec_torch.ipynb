{
 "cells": [
  {
   "cell_type": "code",
   "execution_count": 1,
   "metadata": {},
   "outputs": [],
   "source": [
    "import numpy as np\n",
    "import pandas as pd\n",
    "import os\n",
    "import math\n",
    "import time\n",
    "import torch\n",
    "from data_preprocessor import *\n",
    "import argparse\n",
    "import torch.utils.data as Data\n",
    "import torch.optim as optim\n"
   ]
  },
  {
   "cell_type": "code",
   "execution_count": 2,
   "metadata": {},
   "outputs": [],
   "source": [
    "class Arg_class():\n",
    "    def __init__(self):\n",
    "        self.hidden_neuron = 500\n",
    "        self.lambda_value = 1.0\n",
    "        self.train_epoch = 2000\n",
    "        self.batch_size = 100\n",
    "        self.optimizer_method = \"Adam\"\n",
    "        self.grad_clip = False\n",
    "        self.base_lr = 1e-3\n",
    "        self.decay_epoch_step = 50\n",
    "        self.random_seed = 1000\n",
    "        self.display_step = 1\n",
    "        self.weight_decay = 1e-4\n",
    "        \n",
    "args = Arg_class()\n"
   ]
  },
  {
   "cell_type": "code",
   "execution_count": 3,
   "metadata": {},
   "outputs": [],
   "source": [
    "class AutoRecModel(torch.nn.Module):\n",
    "    def __init__(self,args,\n",
    "                      num_users,num_items,\n",
    "                      ):\n",
    "        super(AutoRecModel,self).__init__()\n",
    "        \n",
    "        self.num_users = num_users\n",
    "        self.num_items = num_items\n",
    "\n",
    "        self.hidden_neuron = args.hidden_neuron\n",
    "        self.lambda_value = args.lambda_value\n",
    "        self.encoder = torch.nn.Linear(self.num_items,self.hidden_neuron)\n",
    "        self.decoder = torch.nn.Linear(self.hidden_neuron,self.num_items)\n",
    "        \n",
    "    def forward(self,x): #shape batch_size,num_items\n",
    "        x = self.encoder(x)\n",
    "#         x = torch.relu(x)\n",
    "        x = torch.sigmoid(x)\n",
    "        x = self.decoder(x)\n",
    "        return x\n",
    "    \n",
    "    def loss_function(self,predicted_rating,true_rating, mask_input,optimizer):\n",
    "        loss = 0\n",
    "        temp = 0\n",
    "        loss += ((predicted_rating - true_rating) * mask_input).pow(2).sum() #mask input 只有有值的进行预测\n",
    "        rmse = loss\n",
    "        for i in optimizer.param_groups:\n",
    "            for j in i['params']:\n",
    "                if j.data.dim() == 2:\n",
    "                    temp += torch.t(j.data).pow(2).sum()\n",
    "        loss += temp * self.lambda_value * 0.5\n",
    "        return loss,rmse\n",
    "    \n",
    "def train(epoch):\n",
    "    RMSE = 0\n",
    "    loss_all = 0\n",
    "    for step, (batch_x,batch_mask_x, batch_y) in enumerate(train_loader):\n",
    "        batch_x = batch_x.type(torch.FloatTensor).cuda()\n",
    "        batch_mask_x = batch_mask_x.type(torch.FloatTensor).cuda()\n",
    "        predicted_rating = model(batch_x)\n",
    "        loss,rmse = model.loss_function(predicted_rating, batch_x,batch_mask_x,optimizer)\n",
    "        optimizer.zero_grad()\n",
    "        loss.backward()\n",
    "        optimizer.step()\n",
    "        loss_all += loss\n",
    "        RMSE += rmse\n",
    "        \n",
    "    RMSE = np.sqrt(RMSE.detach().cpu().numpy() / (train_mask_r == 1).sum())\n",
    "    if epoch%10 == 0:\n",
    "        print(\"epoch:{}, train_RMSE: {}\".format(epoch,RMSE))\n",
    "\n",
    "def test(epoch):\n",
    "    test_x = torch.from_numpy(test_r).type(torch.FloatTensor).cuda()\n",
    "    test_mask_x = torch.from_numpy(test_mask_r).type(torch.FloatTensor).cuda()\n",
    "    \n",
    "    predicted_rating = model(test_x)\n",
    "    \n",
    "    #未在训练集里出现过的\n",
    "    unseen_user_test_list = list(user_test_set - user_train_set)\n",
    "    unseen_item_test_list = list(item_test_set - item_train_set)\n",
    "    \n",
    "    for user in unseen_user_test_list:\n",
    "        for item in unseen_item_test_list:\n",
    "            if test_mask_x[user,item] == 1:\n",
    "                predicted_rating[user,item] = 3\n",
    "    mse = ((predicted_rating - test_x) * test_mask_x).pow(2).sum()\n",
    "    RMSE = mse.detach().cpu().numpy() / (test_mask_r == 1).sum()\n",
    "    RMSE = np.sqrt(RMSE)\n",
    "    if epoch%10 == 0:\n",
    "        print(\"epoch:{}, test_RMSE: {}\".format(epoch,RMSE))\n",
    "    "
   ]
  },
  {
   "cell_type": "code",
   "execution_count": 4,
   "metadata": {},
   "outputs": [],
   "source": [
    "data_name = 'ml-1m'\n",
    "num_users = 6040\n",
    "num_items = 3952\n",
    "num_total_ratings = 1000209\n",
    "train_ratio = 0.9\n",
    "path = \"./data/%s\" % data_name + \"/\"\n",
    "train_r, train_mask_r, C, train_R, train_mask_R, test_r, test_mask_r,num_train_ratings,num_test_ratings,\\\n",
    "user_train_set,item_train_set,user_test_set,item_test_set = read_rating(path,num_users,num_items,\\\n",
    "                                                                       num_total_ratings,1,0,train_ratio)"
   ]
  },
  {
   "cell_type": "code",
   "execution_count": 5,
   "metadata": {},
   "outputs": [
    {
     "data": {
      "text/plain": [
       "AutoRecModel(\n",
       "  (encoder): Linear(in_features=3952, out_features=500, bias=True)\n",
       "  (decoder): Linear(in_features=500, out_features=3952, bias=True)\n",
       ")"
      ]
     },
     "execution_count": 5,
     "metadata": {},
     "output_type": "execute_result"
    }
   ],
   "source": [
    "model = AutoRecModel(args,num_users,num_items)\n",
    "model.cuda()"
   ]
  },
  {
   "cell_type": "code",
   "execution_count": 6,
   "metadata": {},
   "outputs": [],
   "source": [
    "optimizer = optim.Adam(model.parameters(),lr = args.base_lr,weight_decay=args.weight_decay)"
   ]
  },
  {
   "cell_type": "code",
   "execution_count": 7,
   "metadata": {},
   "outputs": [],
   "source": [
    "train_dataset = Data.TensorDataset(torch.from_numpy(train_r), torch.from_numpy(train_mask_r),\\\n",
    "                                  torch.from_numpy(train_r))\n",
    "train_loader = Data.DataLoader(dataset = train_dataset,\n",
    "                              batch_size = args.batch_size,\n",
    "                              shuffle = True)"
   ]
  },
  {
   "cell_type": "code",
   "execution_count": 8,
   "metadata": {},
   "outputs": [
    {
     "name": "stdout",
     "output_type": "stream",
     "text": [
      "epoch:0, train_RMSE: 1.4563815438047005\n",
      "epoch:0, test_RMSE: 1.2451797162536773\n",
      "epoch:10, train_RMSE: 0.9153742755269901\n",
      "epoch:10, test_RMSE: 1.0449873170601203\n",
      "epoch:20, train_RMSE: 0.8246099889272066\n",
      "epoch:20, test_RMSE: 0.9001798366243072\n",
      "epoch:30, train_RMSE: 0.809775517408858\n",
      "epoch:30, test_RMSE: 0.8308364809069344\n",
      "epoch:40, train_RMSE: 0.8412279926464984\n",
      "epoch:40, test_RMSE: 0.8063018137619908\n",
      "epoch:50, train_RMSE: 0.8788197820032665\n",
      "epoch:50, test_RMSE: 0.8006776799705906\n",
      "epoch:60, train_RMSE: 0.9124406131330677\n",
      "epoch:60, test_RMSE: 0.8022074609443727\n",
      "epoch:70, train_RMSE: 0.9417037260016119\n",
      "epoch:70, test_RMSE: 0.8045483283991253\n",
      "epoch:80, train_RMSE: 0.9653816447397993\n",
      "epoch:80, test_RMSE: 0.8100199802798848\n",
      "epoch:90, train_RMSE: 0.9851240007821068\n",
      "epoch:90, test_RMSE: 0.8155698288646973\n",
      "epoch:100, train_RMSE: 1.0030343861016144\n",
      "epoch:100, test_RMSE: 0.8183588195479525\n",
      "epoch:110, train_RMSE: 1.0188797015782216\n",
      "epoch:110, test_RMSE: 0.8223746630076009\n",
      "epoch:120, train_RMSE: 1.0326660871536648\n",
      "epoch:120, test_RMSE: 0.8261516284449434\n",
      "epoch:130, train_RMSE: 1.0460173622673132\n",
      "epoch:130, test_RMSE: 0.828418829259149\n",
      "epoch:140, train_RMSE: 1.057862166766517\n",
      "epoch:140, test_RMSE: 0.8314380809030225\n",
      "epoch:150, train_RMSE: 1.0707132654350433\n",
      "epoch:150, test_RMSE: 0.8344733660412939\n"
     ]
    },
    {
     "ename": "KeyboardInterrupt",
     "evalue": "",
     "output_type": "error",
     "traceback": [
      "\u001b[0;31m---------------------------------------------------------------------------\u001b[0m",
      "\u001b[0;31mKeyboardInterrupt\u001b[0m                         Traceback (most recent call last)",
      "\u001b[0;32m<ipython-input-8-c1938940bff1>\u001b[0m in \u001b[0;36m<module>\u001b[0;34m\u001b[0m\n\u001b[1;32m      1\u001b[0m \u001b[0;32mfor\u001b[0m \u001b[0mep\u001b[0m \u001b[0;32min\u001b[0m \u001b[0mrange\u001b[0m\u001b[0;34m(\u001b[0m\u001b[0margs\u001b[0m\u001b[0;34m.\u001b[0m\u001b[0mtrain_epoch\u001b[0m\u001b[0;34m)\u001b[0m\u001b[0;34m:\u001b[0m\u001b[0;34m\u001b[0m\u001b[0;34m\u001b[0m\u001b[0m\n\u001b[0;32m----> 2\u001b[0;31m     \u001b[0mtrain\u001b[0m\u001b[0;34m(\u001b[0m\u001b[0mep\u001b[0m\u001b[0;34m)\u001b[0m\u001b[0;34m\u001b[0m\u001b[0;34m\u001b[0m\u001b[0m\n\u001b[0m\u001b[1;32m      3\u001b[0m     \u001b[0mtest\u001b[0m\u001b[0;34m(\u001b[0m\u001b[0mep\u001b[0m\u001b[0;34m)\u001b[0m\u001b[0;34m\u001b[0m\u001b[0;34m\u001b[0m\u001b[0m\n",
      "\u001b[0;32m<ipython-input-3-4c697af21ad6>\u001b[0m in \u001b[0;36mtrain\u001b[0;34m(epoch)\u001b[0m\n\u001b[1;32m     46\u001b[0m         \u001b[0mRMSE\u001b[0m \u001b[0;34m+=\u001b[0m \u001b[0mrmse\u001b[0m\u001b[0;34m\u001b[0m\u001b[0;34m\u001b[0m\u001b[0m\n\u001b[1;32m     47\u001b[0m \u001b[0;34m\u001b[0m\u001b[0m\n\u001b[0;32m---> 48\u001b[0;31m     \u001b[0mRMSE\u001b[0m \u001b[0;34m=\u001b[0m \u001b[0mnp\u001b[0m\u001b[0;34m.\u001b[0m\u001b[0msqrt\u001b[0m\u001b[0;34m(\u001b[0m\u001b[0mRMSE\u001b[0m\u001b[0;34m.\u001b[0m\u001b[0mdetach\u001b[0m\u001b[0;34m(\u001b[0m\u001b[0;34m)\u001b[0m\u001b[0;34m.\u001b[0m\u001b[0mcpu\u001b[0m\u001b[0;34m(\u001b[0m\u001b[0;34m)\u001b[0m\u001b[0;34m.\u001b[0m\u001b[0mnumpy\u001b[0m\u001b[0;34m(\u001b[0m\u001b[0;34m)\u001b[0m \u001b[0;34m/\u001b[0m \u001b[0;34m(\u001b[0m\u001b[0mtrain_mask_r\u001b[0m \u001b[0;34m==\u001b[0m \u001b[0;36m1\u001b[0m\u001b[0;34m)\u001b[0m\u001b[0;34m.\u001b[0m\u001b[0msum\u001b[0m\u001b[0;34m(\u001b[0m\u001b[0;34m)\u001b[0m\u001b[0;34m)\u001b[0m\u001b[0;34m\u001b[0m\u001b[0;34m\u001b[0m\u001b[0m\n\u001b[0m\u001b[1;32m     49\u001b[0m     \u001b[0;32mif\u001b[0m \u001b[0mepoch\u001b[0m\u001b[0;34m%\u001b[0m\u001b[0;36m10\u001b[0m \u001b[0;34m==\u001b[0m \u001b[0;36m0\u001b[0m\u001b[0;34m:\u001b[0m\u001b[0;34m\u001b[0m\u001b[0;34m\u001b[0m\u001b[0m\n\u001b[1;32m     50\u001b[0m         \u001b[0mprint\u001b[0m\u001b[0;34m(\u001b[0m\u001b[0;34m\"epoch:{}, train_RMSE: {}\"\u001b[0m\u001b[0;34m.\u001b[0m\u001b[0mformat\u001b[0m\u001b[0;34m(\u001b[0m\u001b[0mepoch\u001b[0m\u001b[0;34m,\u001b[0m\u001b[0mRMSE\u001b[0m\u001b[0;34m)\u001b[0m\u001b[0;34m)\u001b[0m\u001b[0;34m\u001b[0m\u001b[0;34m\u001b[0m\u001b[0m\n",
      "\u001b[0;32m~/.local/lib/python3.6/site-packages/numpy/core/_methods.py\u001b[0m in \u001b[0;36m_sum\u001b[0;34m(a, axis, dtype, out, keepdims, initial, where)\u001b[0m\n\u001b[1;32m     36\u001b[0m def _sum(a, axis=None, dtype=None, out=None, keepdims=False,\n\u001b[1;32m     37\u001b[0m          initial=_NoValue, where=True):\n\u001b[0;32m---> 38\u001b[0;31m     \u001b[0;32mreturn\u001b[0m \u001b[0mumr_sum\u001b[0m\u001b[0;34m(\u001b[0m\u001b[0ma\u001b[0m\u001b[0;34m,\u001b[0m \u001b[0maxis\u001b[0m\u001b[0;34m,\u001b[0m \u001b[0mdtype\u001b[0m\u001b[0;34m,\u001b[0m \u001b[0mout\u001b[0m\u001b[0;34m,\u001b[0m \u001b[0mkeepdims\u001b[0m\u001b[0;34m,\u001b[0m \u001b[0minitial\u001b[0m\u001b[0;34m,\u001b[0m \u001b[0mwhere\u001b[0m\u001b[0;34m)\u001b[0m\u001b[0;34m\u001b[0m\u001b[0;34m\u001b[0m\u001b[0m\n\u001b[0m\u001b[1;32m     39\u001b[0m \u001b[0;34m\u001b[0m\u001b[0m\n\u001b[1;32m     40\u001b[0m def _prod(a, axis=None, dtype=None, out=None, keepdims=False,\n",
      "\u001b[0;31mKeyboardInterrupt\u001b[0m: "
     ]
    }
   ],
   "source": [
    "for ep in range(args.train_epoch):\n",
    "    train(ep)\n",
    "    test(ep)"
   ]
  },
  {
   "cell_type": "code",
   "execution_count": null,
   "metadata": {},
   "outputs": [],
   "source": []
  }
 ],
 "metadata": {
  "kernelspec": {
   "display_name": "Python 3",
   "language": "python",
   "name": "python3"
  },
  "language_info": {
   "codemirror_mode": {
    "name": "ipython",
    "version": 3
   },
   "file_extension": ".py",
   "mimetype": "text/x-python",
   "name": "python",
   "nbconvert_exporter": "python",
   "pygments_lexer": "ipython3",
   "version": "3.6.9"
  }
 },
 "nbformat": 4,
 "nbformat_minor": 4
}
